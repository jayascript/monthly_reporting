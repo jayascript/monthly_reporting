{
 "cells": [
  {
   "cell_type": "markdown",
   "metadata": {},
   "source": [
    "# Google Ads"
   ]
  },
  {
   "cell_type": "code",
   "execution_count": 1,
   "metadata": {},
   "outputs": [],
   "source": [
    "import os\n",
    "import numpy as np\n",
    "import pandas as pd"
   ]
  },
  {
   "cell_type": "code",
   "execution_count": 2,
   "metadata": {},
   "outputs": [
    {
     "data": {
      "text/plain": [
       "'/home/jayascript/Code/jayascript/monthly_reporting/data'"
      ]
     },
     "execution_count": 2,
     "metadata": {},
     "output_type": "execute_result"
    }
   ],
   "source": [
    "ROOT_DIR = os.path.dirname(os.path.abspath(\"../../setup.py\"))\n",
    "DATA_DIR = os.path.join(ROOT_DIR, \"data\")\n",
    "os.path.join(ROOT_DIR, \"data\")"
   ]
  },
  {
   "cell_type": "markdown",
   "metadata": {},
   "source": [
    "## Data Entry: Page Level"
   ]
  },
  {
   "cell_type": "code",
   "execution_count": 4,
   "metadata": {},
   "outputs": [],
   "source": [
    "file = f\"{DATA_DIR}/raw/ads/Nichifu September Search keyword report.csv\"\n",
    "assert os.path.exists(file)"
   ]
  },
  {
   "cell_type": "code",
   "execution_count": 5,
   "metadata": {},
   "outputs": [
    {
     "ename": "ParserError",
     "evalue": "Error tokenizing data. C error: Expected 1 fields in line 3, saw 18\n",
     "output_type": "error",
     "traceback": [
      "\u001b[0;31m---------------------------------------------------------------------------\u001b[0m",
      "\u001b[0;31mParserError\u001b[0m                               Traceback (most recent call last)",
      "\u001b[0;32m<ipython-input-5-b2ccf167b2ea>\u001b[0m in \u001b[0;36m<module>\u001b[0;34m\u001b[0m\n\u001b[0;32m----> 1\u001b[0;31m \u001b[0mdf\u001b[0m \u001b[0;34m=\u001b[0m \u001b[0mpd\u001b[0m\u001b[0;34m.\u001b[0m\u001b[0mread_csv\u001b[0m\u001b[0;34m(\u001b[0m\u001b[0mfile\u001b[0m\u001b[0;34m)\u001b[0m\u001b[0;34m\u001b[0m\u001b[0;34m\u001b[0m\u001b[0m\n\u001b[0m",
      "\u001b[0;32m~/miniconda3/envs/datascience/lib/python3.7/site-packages/pandas/io/parsers.py\u001b[0m in \u001b[0;36mread_csv\u001b[0;34m(filepath_or_buffer, sep, delimiter, header, names, index_col, usecols, squeeze, prefix, mangle_dupe_cols, dtype, engine, converters, true_values, false_values, skipinitialspace, skiprows, skipfooter, nrows, na_values, keep_default_na, na_filter, verbose, skip_blank_lines, parse_dates, infer_datetime_format, keep_date_col, date_parser, dayfirst, cache_dates, iterator, chunksize, compression, thousands, decimal, lineterminator, quotechar, quoting, doublequote, escapechar, comment, encoding, dialect, error_bad_lines, warn_bad_lines, delim_whitespace, low_memory, memory_map, float_precision)\u001b[0m\n\u001b[1;32m    684\u001b[0m     )\n\u001b[1;32m    685\u001b[0m \u001b[0;34m\u001b[0m\u001b[0m\n\u001b[0;32m--> 686\u001b[0;31m     \u001b[0;32mreturn\u001b[0m \u001b[0m_read\u001b[0m\u001b[0;34m(\u001b[0m\u001b[0mfilepath_or_buffer\u001b[0m\u001b[0;34m,\u001b[0m \u001b[0mkwds\u001b[0m\u001b[0;34m)\u001b[0m\u001b[0;34m\u001b[0m\u001b[0;34m\u001b[0m\u001b[0m\n\u001b[0m\u001b[1;32m    687\u001b[0m \u001b[0;34m\u001b[0m\u001b[0m\n\u001b[1;32m    688\u001b[0m \u001b[0;34m\u001b[0m\u001b[0m\n",
      "\u001b[0;32m~/miniconda3/envs/datascience/lib/python3.7/site-packages/pandas/io/parsers.py\u001b[0m in \u001b[0;36m_read\u001b[0;34m(filepath_or_buffer, kwds)\u001b[0m\n\u001b[1;32m    456\u001b[0m \u001b[0;34m\u001b[0m\u001b[0m\n\u001b[1;32m    457\u001b[0m     \u001b[0;32mtry\u001b[0m\u001b[0;34m:\u001b[0m\u001b[0;34m\u001b[0m\u001b[0;34m\u001b[0m\u001b[0m\n\u001b[0;32m--> 458\u001b[0;31m         \u001b[0mdata\u001b[0m \u001b[0;34m=\u001b[0m \u001b[0mparser\u001b[0m\u001b[0;34m.\u001b[0m\u001b[0mread\u001b[0m\u001b[0;34m(\u001b[0m\u001b[0mnrows\u001b[0m\u001b[0;34m)\u001b[0m\u001b[0;34m\u001b[0m\u001b[0;34m\u001b[0m\u001b[0m\n\u001b[0m\u001b[1;32m    459\u001b[0m     \u001b[0;32mfinally\u001b[0m\u001b[0;34m:\u001b[0m\u001b[0;34m\u001b[0m\u001b[0;34m\u001b[0m\u001b[0m\n\u001b[1;32m    460\u001b[0m         \u001b[0mparser\u001b[0m\u001b[0;34m.\u001b[0m\u001b[0mclose\u001b[0m\u001b[0;34m(\u001b[0m\u001b[0;34m)\u001b[0m\u001b[0;34m\u001b[0m\u001b[0;34m\u001b[0m\u001b[0m\n",
      "\u001b[0;32m~/miniconda3/envs/datascience/lib/python3.7/site-packages/pandas/io/parsers.py\u001b[0m in \u001b[0;36mread\u001b[0;34m(self, nrows)\u001b[0m\n\u001b[1;32m   1184\u001b[0m     \u001b[0;32mdef\u001b[0m \u001b[0mread\u001b[0m\u001b[0;34m(\u001b[0m\u001b[0mself\u001b[0m\u001b[0;34m,\u001b[0m \u001b[0mnrows\u001b[0m\u001b[0;34m=\u001b[0m\u001b[0;32mNone\u001b[0m\u001b[0;34m)\u001b[0m\u001b[0;34m:\u001b[0m\u001b[0;34m\u001b[0m\u001b[0;34m\u001b[0m\u001b[0m\n\u001b[1;32m   1185\u001b[0m         \u001b[0mnrows\u001b[0m \u001b[0;34m=\u001b[0m \u001b[0m_validate_integer\u001b[0m\u001b[0;34m(\u001b[0m\u001b[0;34m\"nrows\"\u001b[0m\u001b[0;34m,\u001b[0m \u001b[0mnrows\u001b[0m\u001b[0;34m)\u001b[0m\u001b[0;34m\u001b[0m\u001b[0;34m\u001b[0m\u001b[0m\n\u001b[0;32m-> 1186\u001b[0;31m         \u001b[0mret\u001b[0m \u001b[0;34m=\u001b[0m \u001b[0mself\u001b[0m\u001b[0;34m.\u001b[0m\u001b[0m_engine\u001b[0m\u001b[0;34m.\u001b[0m\u001b[0mread\u001b[0m\u001b[0;34m(\u001b[0m\u001b[0mnrows\u001b[0m\u001b[0;34m)\u001b[0m\u001b[0;34m\u001b[0m\u001b[0;34m\u001b[0m\u001b[0m\n\u001b[0m\u001b[1;32m   1187\u001b[0m \u001b[0;34m\u001b[0m\u001b[0m\n\u001b[1;32m   1188\u001b[0m         \u001b[0;31m# May alter columns / col_dict\u001b[0m\u001b[0;34m\u001b[0m\u001b[0;34m\u001b[0m\u001b[0;34m\u001b[0m\u001b[0m\n",
      "\u001b[0;32m~/miniconda3/envs/datascience/lib/python3.7/site-packages/pandas/io/parsers.py\u001b[0m in \u001b[0;36mread\u001b[0;34m(self, nrows)\u001b[0m\n\u001b[1;32m   2143\u001b[0m     \u001b[0;32mdef\u001b[0m \u001b[0mread\u001b[0m\u001b[0;34m(\u001b[0m\u001b[0mself\u001b[0m\u001b[0;34m,\u001b[0m \u001b[0mnrows\u001b[0m\u001b[0;34m=\u001b[0m\u001b[0;32mNone\u001b[0m\u001b[0;34m)\u001b[0m\u001b[0;34m:\u001b[0m\u001b[0;34m\u001b[0m\u001b[0;34m\u001b[0m\u001b[0m\n\u001b[1;32m   2144\u001b[0m         \u001b[0;32mtry\u001b[0m\u001b[0;34m:\u001b[0m\u001b[0;34m\u001b[0m\u001b[0;34m\u001b[0m\u001b[0m\n\u001b[0;32m-> 2145\u001b[0;31m             \u001b[0mdata\u001b[0m \u001b[0;34m=\u001b[0m \u001b[0mself\u001b[0m\u001b[0;34m.\u001b[0m\u001b[0m_reader\u001b[0m\u001b[0;34m.\u001b[0m\u001b[0mread\u001b[0m\u001b[0;34m(\u001b[0m\u001b[0mnrows\u001b[0m\u001b[0;34m)\u001b[0m\u001b[0;34m\u001b[0m\u001b[0;34m\u001b[0m\u001b[0m\n\u001b[0m\u001b[1;32m   2146\u001b[0m         \u001b[0;32mexcept\u001b[0m \u001b[0mStopIteration\u001b[0m\u001b[0;34m:\u001b[0m\u001b[0;34m\u001b[0m\u001b[0;34m\u001b[0m\u001b[0m\n\u001b[1;32m   2147\u001b[0m             \u001b[0;32mif\u001b[0m \u001b[0mself\u001b[0m\u001b[0;34m.\u001b[0m\u001b[0m_first_chunk\u001b[0m\u001b[0;34m:\u001b[0m\u001b[0;34m\u001b[0m\u001b[0;34m\u001b[0m\u001b[0m\n",
      "\u001b[0;32mpandas/_libs/parsers.pyx\u001b[0m in \u001b[0;36mpandas._libs.parsers.TextReader.read\u001b[0;34m()\u001b[0m\n",
      "\u001b[0;32mpandas/_libs/parsers.pyx\u001b[0m in \u001b[0;36mpandas._libs.parsers.TextReader._read_low_memory\u001b[0;34m()\u001b[0m\n",
      "\u001b[0;32mpandas/_libs/parsers.pyx\u001b[0m in \u001b[0;36mpandas._libs.parsers.TextReader._read_rows\u001b[0;34m()\u001b[0m\n",
      "\u001b[0;32mpandas/_libs/parsers.pyx\u001b[0m in \u001b[0;36mpandas._libs.parsers.TextReader._tokenize_rows\u001b[0;34m()\u001b[0m\n",
      "\u001b[0;32mpandas/_libs/parsers.pyx\u001b[0m in \u001b[0;36mpandas._libs.parsers.raise_parser_error\u001b[0;34m()\u001b[0m\n",
      "\u001b[0;31mParserError\u001b[0m: Error tokenizing data. C error: Expected 1 fields in line 3, saw 18\n"
     ]
    }
   ],
   "source": [
    "df = pd.read_csv(file)"
   ]
  },
  {
   "cell_type": "code",
   "execution_count": 6,
   "metadata": {},
   "outputs": [
    {
     "ename": "NameError",
     "evalue": "name 'df' is not defined",
     "output_type": "error",
     "traceback": [
      "\u001b[0;31m---------------------------------------------------------------------------\u001b[0m",
      "\u001b[0;31mNameError\u001b[0m                                 Traceback (most recent call last)",
      "\u001b[0;32m<ipython-input-6-c42a15b2c7cf>\u001b[0m in \u001b[0;36m<module>\u001b[0;34m\u001b[0m\n\u001b[0;32m----> 1\u001b[0;31m \u001b[0mdf\u001b[0m\u001b[0;34m.\u001b[0m\u001b[0mhead\u001b[0m\u001b[0;34m(\u001b[0m\u001b[0;34m)\u001b[0m\u001b[0;34m\u001b[0m\u001b[0;34m\u001b[0m\u001b[0m\n\u001b[0m",
      "\u001b[0;31mNameError\u001b[0m: name 'df' is not defined"
     ]
    }
   ],
   "source": [
    "df.head()"
   ]
  },
  {
   "cell_type": "code",
   "execution_count": 6,
   "metadata": {},
   "outputs": [],
   "source": [
    "df.drop(0, 0, inplace=True)"
   ]
  },
  {
   "cell_type": "code",
   "execution_count": 7,
   "metadata": {},
   "outputs": [],
   "source": [
    "df = df.fillna(0.0)"
   ]
  },
  {
   "cell_type": "markdown",
   "metadata": {},
   "source": [
    "### New followers"
   ]
  },
  {
   "cell_type": "code",
   "execution_count": 8,
   "metadata": {},
   "outputs": [
    {
     "data": {
      "text/plain": [
       "3.0"
      ]
     },
     "execution_count": 8,
     "metadata": {},
     "output_type": "execute_result"
    }
   ],
   "source": [
    "np.sum(pd.to_numeric(df[\"Daily New Likes\"])) + np.sum(pd.to_numeric(df[\"Daily Unlikes\"]))"
   ]
  },
  {
   "cell_type": "markdown",
   "metadata": {},
   "source": [
    "### Clicks"
   ]
  },
  {
   "cell_type": "code",
   "execution_count": 9,
   "metadata": {},
   "outputs": [
    {
     "name": "stdout",
     "output_type": "stream",
     "text": [
      "['Daily Page Consumptions By Type - button clicks', 'Daily Page Consumptions By Type - link clicks', 'Daily Page Consumptions By Type - other clicks', 'Daily Page Consumptions By Type - photo view', 'Daily Page Consumptions By Type - video play']\n"
     ]
    }
   ],
   "source": [
    "click_cols = [col for col in df.columns if 'Daily Page Consumptions By Type' in col]\n",
    "print(click_cols)"
   ]
  },
  {
   "cell_type": "code",
   "execution_count": 10,
   "metadata": {},
   "outputs": [
    {
     "data": {
      "text/plain": [
       "5.0"
      ]
     },
     "execution_count": 10,
     "metadata": {},
     "output_type": "execute_result"
    }
   ],
   "source": [
    "total_clicks = 0\n",
    "\n",
    "for col in click_cols:\n",
    "    total_clicks += np.sum(pd.to_numeric(df[col]))\n",
    "    \n",
    "total_clicks"
   ]
  },
  {
   "cell_type": "markdown",
   "metadata": {},
   "source": [
    "### Comments"
   ]
  },
  {
   "cell_type": "code",
   "execution_count": 11,
   "metadata": {},
   "outputs": [
    {
     "data": {
      "text/plain": [
       "0.0"
      ]
     },
     "execution_count": 11,
     "metadata": {},
     "output_type": "execute_result"
    }
   ],
   "source": [
    "np.sum(pd.to_numeric(df[\"Daily Positive Feedback From Users - comment\"]))"
   ]
  },
  {
   "cell_type": "markdown",
   "metadata": {},
   "source": [
    "## Data Entry: Post Level"
   ]
  },
  {
   "cell_type": "code",
   "execution_count": 12,
   "metadata": {},
   "outputs": [],
   "source": [
    "file = f\"{DATA_DIR}/raw/facebook/company1_facebook-insights-post-level.csv\"\n",
    "assert os.path.exists(file)"
   ]
  },
  {
   "cell_type": "code",
   "execution_count": 13,
   "metadata": {},
   "outputs": [],
   "source": [
    "df_post = pd.read_csv(file)"
   ]
  },
  {
   "cell_type": "code",
   "execution_count": 14,
   "metadata": {},
   "outputs": [
    {
     "data": {
      "text/html": [
       "<div>\n",
       "<style scoped>\n",
       "    .dataframe tbody tr th:only-of-type {\n",
       "        vertical-align: middle;\n",
       "    }\n",
       "\n",
       "    .dataframe tbody tr th {\n",
       "        vertical-align: top;\n",
       "    }\n",
       "\n",
       "    .dataframe thead th {\n",
       "        text-align: right;\n",
       "    }\n",
       "</style>\n",
       "<table border=\"1\" class=\"dataframe\">\n",
       "  <thead>\n",
       "    <tr style=\"text-align: right;\">\n",
       "      <th></th>\n",
       "      <th>Post ID</th>\n",
       "      <th>Permalink</th>\n",
       "      <th>Post Message</th>\n",
       "      <th>Type</th>\n",
       "      <th>Countries</th>\n",
       "      <th>Languages</th>\n",
       "      <th>Posted</th>\n",
       "      <th>Audience Targeting</th>\n",
       "      <th>Lifetime Post Total Reach</th>\n",
       "      <th>Lifetime Post organic reach</th>\n",
       "      <th>...</th>\n",
       "      <th>Lifetime Paid Video Views</th>\n",
       "      <th>Lifetime Paid Video Views.1</th>\n",
       "      <th>Lifetime Average time video viewed</th>\n",
       "      <th>Lifetime Video length</th>\n",
       "      <th>Lifetime Talking About This (Post) by action type - like</th>\n",
       "      <th>Lifetime Post Stories by action type - like</th>\n",
       "      <th>Lifetime Post Audience Targeting Unique Consumptions by Type - link clicks</th>\n",
       "      <th>Lifetime Post Audience Targeting Unique Consumptions by Type - other clicks</th>\n",
       "      <th>Lifetime Matched Audience Targeting Consumptions by Type - link clicks</th>\n",
       "      <th>Lifetime Matched Audience Targeting Consumptions by Type - other clicks</th>\n",
       "    </tr>\n",
       "  </thead>\n",
       "  <tbody>\n",
       "    <tr>\n",
       "      <th>0</th>\n",
       "      <td>NaN</td>\n",
       "      <td>NaN</td>\n",
       "      <td>NaN</td>\n",
       "      <td>NaN</td>\n",
       "      <td>NaN</td>\n",
       "      <td>NaN</td>\n",
       "      <td>NaN</td>\n",
       "      <td>NaN</td>\n",
       "      <td>Lifetime: The number of people who had your Pa...</td>\n",
       "      <td>Lifetime: The number of people who had your Pa...</td>\n",
       "      <td>...</td>\n",
       "      <td>Lifetime: Number of times your video was viewe...</td>\n",
       "      <td>Lifetime: Number of times your video was viewe...</td>\n",
       "      <td>Lifetime: Average time video viewed (Total Count)</td>\n",
       "      <td>Lifetime: Length of a video post (Total Count)</td>\n",
       "      <td>Lifetime: The number of unique people who crea...</td>\n",
       "      <td>Lifetime: The number of stories created about ...</td>\n",
       "      <td>Lifetime: The number of people who matched the...</td>\n",
       "      <td>NaN</td>\n",
       "      <td>Lifetime: The number of clicks anywhere in the...</td>\n",
       "      <td>NaN</td>\n",
       "    </tr>\n",
       "    <tr>\n",
       "      <th>1</th>\n",
       "      <td>597212727095362_1728839350599355</td>\n",
       "      <td>https://www.facebook.com/NichifuGroup/posts/17...</td>\n",
       "      <td>&amp;quot;Offices will probably never look the sam...</td>\n",
       "      <td>Link</td>\n",
       "      <td>NaN</td>\n",
       "      <td>NaN</td>\n",
       "      <td>09/27/2020 12:45:00 PM</td>\n",
       "      <td></td>\n",
       "      <td>8</td>\n",
       "      <td>8</td>\n",
       "      <td>...</td>\n",
       "      <td>0</td>\n",
       "      <td>0</td>\n",
       "      <td>0</td>\n",
       "      <td>0</td>\n",
       "      <td>5</td>\n",
       "      <td>5</td>\n",
       "      <td>1</td>\n",
       "      <td>NaN</td>\n",
       "      <td>1</td>\n",
       "      <td>NaN</td>\n",
       "    </tr>\n",
       "    <tr>\n",
       "      <th>2</th>\n",
       "      <td>597212727095362_1727002300783060</td>\n",
       "      <td>https://www.facebook.com/NichifuGroup/photos/a...</td>\n",
       "      <td>⚡ Quick\\n🔒 Lock\\n➰ Connectors\\n\\nLearn more ab...</td>\n",
       "      <td>Photo</td>\n",
       "      <td>NaN</td>\n",
       "      <td>NaN</td>\n",
       "      <td>09/25/2020 01:00:47 PM</td>\n",
       "      <td></td>\n",
       "      <td>8</td>\n",
       "      <td>8</td>\n",
       "      <td>...</td>\n",
       "      <td>0</td>\n",
       "      <td>0</td>\n",
       "      <td>0</td>\n",
       "      <td>0</td>\n",
       "      <td>5</td>\n",
       "      <td>5</td>\n",
       "      <td>NaN</td>\n",
       "      <td>1.0</td>\n",
       "      <td>NaN</td>\n",
       "      <td>1.0</td>\n",
       "    </tr>\n",
       "    <tr>\n",
       "      <th>3</th>\n",
       "      <td>597212727095362_1726156080867682</td>\n",
       "      <td>https://www.facebook.com/NichifuGroup/photos/a...</td>\n",
       "      <td>📸 Pictured: Nichifu Fully-Insulated Female/Mal...</td>\n",
       "      <td>Photo</td>\n",
       "      <td>NaN</td>\n",
       "      <td>NaN</td>\n",
       "      <td>09/24/2020 03:00:49 PM</td>\n",
       "      <td></td>\n",
       "      <td>11</td>\n",
       "      <td>11</td>\n",
       "      <td>...</td>\n",
       "      <td>0</td>\n",
       "      <td>0</td>\n",
       "      <td>0</td>\n",
       "      <td>0</td>\n",
       "      <td>5</td>\n",
       "      <td>5</td>\n",
       "      <td>NaN</td>\n",
       "      <td>NaN</td>\n",
       "      <td>NaN</td>\n",
       "      <td>NaN</td>\n",
       "    </tr>\n",
       "    <tr>\n",
       "      <th>4</th>\n",
       "      <td>597212727095362_1722350954581528</td>\n",
       "      <td>https://www.facebook.com/NichifuGroup/posts/17...</td>\n",
       "      <td>&amp;quot;Less than one percent of earth’s water i...</td>\n",
       "      <td>Link</td>\n",
       "      <td>NaN</td>\n",
       "      <td>NaN</td>\n",
       "      <td>09/20/2020 12:20:00 PM</td>\n",
       "      <td></td>\n",
       "      <td>25</td>\n",
       "      <td>25</td>\n",
       "      <td>...</td>\n",
       "      <td>0</td>\n",
       "      <td>0</td>\n",
       "      <td>0</td>\n",
       "      <td>0</td>\n",
       "      <td>5</td>\n",
       "      <td>5</td>\n",
       "      <td>NaN</td>\n",
       "      <td>NaN</td>\n",
       "      <td>NaN</td>\n",
       "      <td>NaN</td>\n",
       "    </tr>\n",
       "  </tbody>\n",
       "</table>\n",
       "<p>5 rows × 40 columns</p>\n",
       "</div>"
      ],
      "text/plain": [
       "                            Post ID  \\\n",
       "0                               NaN   \n",
       "1  597212727095362_1728839350599355   \n",
       "2  597212727095362_1727002300783060   \n",
       "3  597212727095362_1726156080867682   \n",
       "4  597212727095362_1722350954581528   \n",
       "\n",
       "                                           Permalink  \\\n",
       "0                                                NaN   \n",
       "1  https://www.facebook.com/NichifuGroup/posts/17...   \n",
       "2  https://www.facebook.com/NichifuGroup/photos/a...   \n",
       "3  https://www.facebook.com/NichifuGroup/photos/a...   \n",
       "4  https://www.facebook.com/NichifuGroup/posts/17...   \n",
       "\n",
       "                                        Post Message   Type  Countries  \\\n",
       "0                                                NaN    NaN        NaN   \n",
       "1  &quot;Offices will probably never look the sam...   Link        NaN   \n",
       "2  ⚡ Quick\\n🔒 Lock\\n➰ Connectors\\n\\nLearn more ab...  Photo        NaN   \n",
       "3  📸 Pictured: Nichifu Fully-Insulated Female/Mal...  Photo        NaN   \n",
       "4  &quot;Less than one percent of earth’s water i...   Link        NaN   \n",
       "\n",
       "   Languages                  Posted Audience Targeting  \\\n",
       "0        NaN                     NaN                NaN   \n",
       "1        NaN  09/27/2020 12:45:00 PM                      \n",
       "2        NaN  09/25/2020 01:00:47 PM                      \n",
       "3        NaN  09/24/2020 03:00:49 PM                      \n",
       "4        NaN  09/20/2020 12:20:00 PM                      \n",
       "\n",
       "                           Lifetime Post Total Reach  \\\n",
       "0  Lifetime: The number of people who had your Pa...   \n",
       "1                                                  8   \n",
       "2                                                  8   \n",
       "3                                                 11   \n",
       "4                                                 25   \n",
       "\n",
       "                         Lifetime Post organic reach  ...  \\\n",
       "0  Lifetime: The number of people who had your Pa...  ...   \n",
       "1                                                  8  ...   \n",
       "2                                                  8  ...   \n",
       "3                                                 11  ...   \n",
       "4                                                 25  ...   \n",
       "\n",
       "                           Lifetime Paid Video Views  \\\n",
       "0  Lifetime: Number of times your video was viewe...   \n",
       "1                                                  0   \n",
       "2                                                  0   \n",
       "3                                                  0   \n",
       "4                                                  0   \n",
       "\n",
       "                         Lifetime Paid Video Views.1  \\\n",
       "0  Lifetime: Number of times your video was viewe...   \n",
       "1                                                  0   \n",
       "2                                                  0   \n",
       "3                                                  0   \n",
       "4                                                  0   \n",
       "\n",
       "                  Lifetime Average time video viewed  \\\n",
       "0  Lifetime: Average time video viewed (Total Count)   \n",
       "1                                                  0   \n",
       "2                                                  0   \n",
       "3                                                  0   \n",
       "4                                                  0   \n",
       "\n",
       "                            Lifetime Video length  \\\n",
       "0  Lifetime: Length of a video post (Total Count)   \n",
       "1                                               0   \n",
       "2                                               0   \n",
       "3                                               0   \n",
       "4                                               0   \n",
       "\n",
       "  Lifetime Talking About This (Post) by action type - like  \\\n",
       "0  Lifetime: The number of unique people who crea...         \n",
       "1                                                  5         \n",
       "2                                                  5         \n",
       "3                                                  5         \n",
       "4                                                  5         \n",
       "\n",
       "         Lifetime Post Stories by action type - like  \\\n",
       "0  Lifetime: The number of stories created about ...   \n",
       "1                                                  5   \n",
       "2                                                  5   \n",
       "3                                                  5   \n",
       "4                                                  5   \n",
       "\n",
       "  Lifetime Post Audience Targeting Unique Consumptions by Type - link clicks  \\\n",
       "0  Lifetime: The number of people who matched the...                           \n",
       "1                                                  1                           \n",
       "2                                                NaN                           \n",
       "3                                                NaN                           \n",
       "4                                                NaN                           \n",
       "\n",
       "  Lifetime Post Audience Targeting Unique Consumptions by Type - other clicks  \\\n",
       "0                                                NaN                            \n",
       "1                                                NaN                            \n",
       "2                                                1.0                            \n",
       "3                                                NaN                            \n",
       "4                                                NaN                            \n",
       "\n",
       "  Lifetime Matched Audience Targeting Consumptions by Type - link clicks  \\\n",
       "0  Lifetime: The number of clicks anywhere in the...                       \n",
       "1                                                  1                       \n",
       "2                                                NaN                       \n",
       "3                                                NaN                       \n",
       "4                                                NaN                       \n",
       "\n",
       "  Lifetime Matched Audience Targeting Consumptions by Type - other clicks  \n",
       "0                                                NaN                       \n",
       "1                                                NaN                       \n",
       "2                                                1.0                       \n",
       "3                                                NaN                       \n",
       "4                                                NaN                       \n",
       "\n",
       "[5 rows x 40 columns]"
      ]
     },
     "execution_count": 14,
     "metadata": {},
     "output_type": "execute_result"
    }
   ],
   "source": [
    "df_post.head()"
   ]
  },
  {
   "cell_type": "code",
   "execution_count": 15,
   "metadata": {},
   "outputs": [],
   "source": [
    "df_post.drop(0, 0, inplace=True)"
   ]
  },
  {
   "cell_type": "code",
   "execution_count": 16,
   "metadata": {},
   "outputs": [],
   "source": [
    "df_post = df_post.fillna(0.0)"
   ]
  },
  {
   "cell_type": "markdown",
   "metadata": {},
   "source": [
    "### Posts"
   ]
  },
  {
   "cell_type": "code",
   "execution_count": 17,
   "metadata": {},
   "outputs": [
    {
     "data": {
      "text/plain": [
       "12"
      ]
     },
     "execution_count": 17,
     "metadata": {},
     "output_type": "execute_result"
    }
   ],
   "source": [
    "df_post.shape[0]"
   ]
  },
  {
   "cell_type": "markdown",
   "metadata": {},
   "source": [
    "### Impressions"
   ]
  },
  {
   "cell_type": "code",
   "execution_count": 18,
   "metadata": {},
   "outputs": [
    {
     "data": {
      "text/plain": [
       "207"
      ]
     },
     "execution_count": 18,
     "metadata": {},
     "output_type": "execute_result"
    }
   ],
   "source": [
    "np.sum(pd.to_numeric(df_post[\"Lifetime Post Total Impressions\"]))"
   ]
  },
  {
   "cell_type": "markdown",
   "metadata": {},
   "source": [
    "### Likes"
   ]
  },
  {
   "cell_type": "code",
   "execution_count": 19,
   "metadata": {},
   "outputs": [
    {
     "data": {
      "text/plain": [
       "61"
      ]
     },
     "execution_count": 19,
     "metadata": {},
     "output_type": "execute_result"
    }
   ],
   "source": [
    "np.sum(pd.to_numeric(df_post[\"Lifetime Post Stories by action type - like\"]))"
   ]
  },
  {
   "cell_type": "markdown",
   "metadata": {},
   "source": [
    "## Demographics: Page Data"
   ]
  },
  {
   "cell_type": "markdown",
   "metadata": {},
   "source": [
    "### Age\n",
    "\n",
    "Find “Lifetime Likes by Gender and Age” columns & locate values in last cell"
   ]
  },
  {
   "cell_type": "code",
   "execution_count": 20,
   "metadata": {},
   "outputs": [
    {
     "name": "stdout",
     "output_type": "stream",
     "text": [
      "['Lifetime Likes by Gender and Age - F.18-24', 'Lifetime Likes by Gender and Age - F.25-34', 'Lifetime Likes by Gender and Age - F.35-44', 'Lifetime Likes by Gender and Age - F.45-54', 'Lifetime Likes by Gender and Age - F.55-64', 'Lifetime Likes by Gender and Age - F.65+', 'Lifetime Likes by Gender and Age - M.18-24', 'Lifetime Likes by Gender and Age - M.25-34', 'Lifetime Likes by Gender and Age - M.35-44', 'Lifetime Likes by Gender and Age - M.45-54', 'Lifetime Likes by Gender and Age - M.55-64', 'Lifetime Likes by Gender and Age - M.65+']\n"
     ]
    }
   ],
   "source": [
    "age_cols = [col for col in df.columns if 'Lifetime Likes by Gender and Age' in col]\n",
    "print(age_cols)"
   ]
  },
  {
   "cell_type": "code",
   "execution_count": 23,
   "metadata": {},
   "outputs": [
    {
     "data": {
      "text/plain": [
       "Lifetime Likes by Gender and Age - F.18-24     1\n",
       "Lifetime Likes by Gender and Age - F.25-34     7\n",
       "Lifetime Likes by Gender and Age - F.35-44     9\n",
       "Lifetime Likes by Gender and Age - F.45-54     9\n",
       "Lifetime Likes by Gender and Age - F.55-64     8\n",
       "Lifetime Likes by Gender and Age - F.65+       3\n",
       "Lifetime Likes by Gender and Age - M.18-24     5\n",
       "Lifetime Likes by Gender and Age - M.25-34    22\n",
       "Lifetime Likes by Gender and Age - M.35-44    34\n",
       "Lifetime Likes by Gender and Age - M.45-54    42\n",
       "Lifetime Likes by Gender and Age - M.55-64    25\n",
       "Lifetime Likes by Gender and Age - M.65+      10\n",
       "Name: 30, dtype: object"
      ]
     },
     "execution_count": 23,
     "metadata": {},
     "output_type": "execute_result"
    }
   ],
   "source": [
    "df[age_cols].iloc[-1,:]"
   ]
  },
  {
   "cell_type": "markdown",
   "metadata": {},
   "source": [
    "### Country\n",
    "\n",
    "* Find “Lifetime Likes by Country” columns & copy to new sheet\n",
    "* Remove all but header and last rows and transpose dataframe\n",
    "* Sort by descending, then alphabetical order\n",
    "* Enter up to 5 countries"
   ]
  },
  {
   "cell_type": "code",
   "execution_count": 24,
   "metadata": {},
   "outputs": [
    {
     "name": "stdout",
     "output_type": "stream",
     "text": [
      "['Lifetime Likes by Country - AU', 'Lifetime Likes by Country - CA', 'Lifetime Likes by Country - CN', 'Lifetime Likes by Country - ES', 'Lifetime Likes by Country - GB', 'Lifetime Likes by Country - GH', 'Lifetime Likes by Country - ID', 'Lifetime Likes by Country - IN', 'Lifetime Likes by Country - JP', 'Lifetime Likes by Country - KE', 'Lifetime Likes by Country - MX', 'Lifetime Likes by Country - NG', 'Lifetime Likes by Country - OM', 'Lifetime Likes by Country - PH', 'Lifetime Likes by Country - PR', 'Lifetime Likes by Country - TH', 'Lifetime Likes by Country - TW', 'Lifetime Likes by Country - UG', 'Lifetime Likes by Country - US', 'Lifetime Likes by Country - VN', 'Lifetime Likes by Country - ZA']\n"
     ]
    }
   ],
   "source": [
    "country_cols = [col for col in df.columns if 'Lifetime Likes by Country' in col]\n",
    "print(country_cols)"
   ]
  },
  {
   "cell_type": "code",
   "execution_count": 39,
   "metadata": {},
   "outputs": [],
   "source": [
    "index = df[country_cols].iloc[-1,:].name"
   ]
  },
  {
   "cell_type": "code",
   "execution_count": 46,
   "metadata": {},
   "outputs": [],
   "source": [
    "results = pd.to_numeric(df[country_cols].iloc[-1,:]).sort_values(ascending=False)"
   ]
  },
  {
   "cell_type": "code",
   "execution_count": 52,
   "metadata": {},
   "outputs": [],
   "source": [
    "results = pd.DataFrame(results).reset_index().iloc[:5]"
   ]
  },
  {
   "cell_type": "code",
   "execution_count": 61,
   "metadata": {},
   "outputs": [],
   "source": [
    "countries = list(results[\"index\"])\n",
    "shortened = [country[-2:] for country in countries]\n",
    "results[\"index\"] = shortened"
   ]
  },
  {
   "cell_type": "code",
   "execution_count": 62,
   "metadata": {},
   "outputs": [
    {
     "data": {
      "text/html": [
       "<div>\n",
       "<style scoped>\n",
       "    .dataframe tbody tr th:only-of-type {\n",
       "        vertical-align: middle;\n",
       "    }\n",
       "\n",
       "    .dataframe tbody tr th {\n",
       "        vertical-align: top;\n",
       "    }\n",
       "\n",
       "    .dataframe thead th {\n",
       "        text-align: right;\n",
       "    }\n",
       "</style>\n",
       "<table border=\"1\" class=\"dataframe\">\n",
       "  <thead>\n",
       "    <tr style=\"text-align: right;\">\n",
       "      <th></th>\n",
       "      <th>index</th>\n",
       "      <th>30</th>\n",
       "    </tr>\n",
       "  </thead>\n",
       "  <tbody>\n",
       "    <tr>\n",
       "      <th>0</th>\n",
       "      <td>US</td>\n",
       "      <td>127.0</td>\n",
       "    </tr>\n",
       "    <tr>\n",
       "      <th>1</th>\n",
       "      <td>MX</td>\n",
       "      <td>21.0</td>\n",
       "    </tr>\n",
       "    <tr>\n",
       "      <th>2</th>\n",
       "      <td>CA</td>\n",
       "      <td>4.0</td>\n",
       "    </tr>\n",
       "    <tr>\n",
       "      <th>3</th>\n",
       "      <td>PH</td>\n",
       "      <td>3.0</td>\n",
       "    </tr>\n",
       "    <tr>\n",
       "      <th>4</th>\n",
       "      <td>TW</td>\n",
       "      <td>2.0</td>\n",
       "    </tr>\n",
       "  </tbody>\n",
       "</table>\n",
       "</div>"
      ],
      "text/plain": [
       "  index     30\n",
       "0    US  127.0\n",
       "1    MX   21.0\n",
       "2    CA    4.0\n",
       "3    PH    3.0\n",
       "4    TW    2.0"
      ]
     },
     "execution_count": 62,
     "metadata": {},
     "output_type": "execute_result"
    }
   ],
   "source": [
    "results"
   ]
  },
  {
   "cell_type": "code",
   "execution_count": null,
   "metadata": {},
   "outputs": [],
   "source": []
  }
 ],
 "metadata": {
  "kernelspec": {
   "display_name": "Python 3",
   "language": "python",
   "name": "python3"
  },
  "language_info": {
   "codemirror_mode": {
    "name": "ipython",
    "version": 3
   },
   "file_extension": ".py",
   "mimetype": "text/x-python",
   "name": "python",
   "nbconvert_exporter": "python",
   "pygments_lexer": "ipython3",
   "version": "3.7.8"
  }
 },
 "nbformat": 4,
 "nbformat_minor": 4
}
