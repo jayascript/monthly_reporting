{
 "cells": [
  {
   "cell_type": "code",
   "execution_count": 1,
   "metadata": {},
   "outputs": [],
   "source": [
    "import re\n",
    "import os"
   ]
  },
  {
   "cell_type": "code",
   "execution_count": 2,
   "metadata": {},
   "outputs": [],
   "source": [
    "import pandas as pd"
   ]
  },
  {
   "cell_type": "code",
   "execution_count": 3,
   "metadata": {},
   "outputs": [],
   "source": [
    "import sys\n",
    "import subprocess"
   ]
  },
  {
   "cell_type": "code",
   "execution_count": 27,
   "metadata": {},
   "outputs": [],
   "source": [
    "def translate(word):\n",
    "    result = subprocess.run(\n",
    "    [\"trans\", \":ja\", f\"'{word}'\"], capture_output=True, text=True\n",
    "    ).stdout\n",
    "    translation = re.findall(\n",
    "        '\\「(.*?)\\」', result\n",
    "    )\n",
    "    return translation[-1]\n"
   ]
  },
  {
   "cell_type": "code",
   "execution_count": 18,
   "metadata": {},
   "outputs": [],
   "source": [
    "ROOT_DIR = os.path.dirname(os.path.abspath(\"../README.md\"))\n",
    "DATA_DIR = os.path.join(ROOT_DIR, \"data/linkedin\")"
   ]
  },
  {
   "cell_type": "code",
   "execution_count": 19,
   "metadata": {},
   "outputs": [],
   "source": [
    "df = pd.read_excel(f\"{DATA_DIR}/jotovent-2020-10_visitors.xls\", sheet_name=[1])"
   ]
  },
  {
   "cell_type": "code",
   "execution_count": 20,
   "metadata": {},
   "outputs": [],
   "source": [
    "df[1].insert(1, 'Location (JP)', '')"
   ]
  },
  {
   "cell_type": "code",
   "execution_count": 28,
   "metadata": {},
   "outputs": [
    {
     "data": {
      "text/plain": [
       "0        グレーター・ニューヨークシティエリア\n",
       "1           ポートランド、オレゴン州エリア\n",
       "2              グレーターシアトルエリア\n",
       "3          カンザスシティ、ミズーリ州エリア\n",
       "4    ローリー・ダーラム、ノースカロライナ州エリア\n",
       "5              キッチナー、カナダエリア\n",
       "6             ブラジル、サンパウロエリア\n",
       "7         地域VII-中央ビサヤ、フィリピン\n",
       "Name: Location, dtype: object"
      ]
     },
     "execution_count": 28,
     "metadata": {},
     "output_type": "execute_result"
    }
   ],
   "source": [
    "df[1]['Location'].apply(lambda x: translate(x))"
   ]
  },
  {
   "cell_type": "code",
   "execution_count": 117,
   "metadata": {},
   "outputs": [],
   "source": [
    "df[1]['Location (JP)'] = df[1]['Location'].apply(lambda x: get_japanese_word(dictionary, x))"
   ]
  },
  {
   "cell_type": "code",
   "execution_count": 118,
   "metadata": {},
   "outputs": [
    {
     "data": {
      "text/html": [
       "<div>\n",
       "<style scoped>\n",
       "    .dataframe tbody tr th:only-of-type {\n",
       "        vertical-align: middle;\n",
       "    }\n",
       "\n",
       "    .dataframe tbody tr th {\n",
       "        vertical-align: top;\n",
       "    }\n",
       "\n",
       "    .dataframe thead th {\n",
       "        text-align: right;\n",
       "    }\n",
       "</style>\n",
       "<table border=\"1\" class=\"dataframe\">\n",
       "  <thead>\n",
       "    <tr style=\"text-align: right;\">\n",
       "      <th></th>\n",
       "      <th>Location</th>\n",
       "      <th>Location (JP)</th>\n",
       "      <th>Total views</th>\n",
       "    </tr>\n",
       "  </thead>\n",
       "  <tbody>\n",
       "    <tr>\n",
       "      <th>0</th>\n",
       "      <td>Greater New York City Area</td>\n",
       "      <td>グレーター・ニューヨークシティエリア</td>\n",
       "      <td>4</td>\n",
       "    </tr>\n",
       "    <tr>\n",
       "      <th>1</th>\n",
       "      <td>Portland, Oregon Area</td>\n",
       "      <td>ポートランド、オレゴン州エリア</td>\n",
       "      <td>2</td>\n",
       "    </tr>\n",
       "    <tr>\n",
       "      <th>2</th>\n",
       "      <td>Greater Seattle Area</td>\n",
       "      <td>グレーターシアトルエリア</td>\n",
       "      <td>62</td>\n",
       "    </tr>\n",
       "    <tr>\n",
       "      <th>3</th>\n",
       "      <td>Kansas City, Missouri Area</td>\n",
       "      <td>カンザスシティ、ミズーリ州エリア</td>\n",
       "      <td>2</td>\n",
       "    </tr>\n",
       "    <tr>\n",
       "      <th>4</th>\n",
       "      <td>Raleigh-Durham, North Carolina Area</td>\n",
       "      <td>ローリー・ダーラム、ノースカロライナ州エリア</td>\n",
       "      <td>2</td>\n",
       "    </tr>\n",
       "    <tr>\n",
       "      <th>5</th>\n",
       "      <td>Kitchener, Canada Area</td>\n",
       "      <td>キッチナー、カナダエリア</td>\n",
       "      <td>5</td>\n",
       "    </tr>\n",
       "    <tr>\n",
       "      <th>6</th>\n",
       "      <td>São Paulo Area, Brazil</td>\n",
       "      <td>ブラジル、サンパウロエリア</td>\n",
       "      <td>4</td>\n",
       "    </tr>\n",
       "    <tr>\n",
       "      <th>7</th>\n",
       "      <td>Region VII - Central Visayas, Philippines</td>\n",
       "      <td>地域VII-中央ビサヤ、フィリピン</td>\n",
       "      <td>1</td>\n",
       "    </tr>\n",
       "  </tbody>\n",
       "</table>\n",
       "</div>"
      ],
      "text/plain": [
       "                                    Location           Location (JP)  \\\n",
       "0                 Greater New York City Area      グレーター・ニューヨークシティエリア   \n",
       "1                      Portland, Oregon Area         ポートランド、オレゴン州エリア   \n",
       "2                       Greater Seattle Area            グレーターシアトルエリア   \n",
       "3                 Kansas City, Missouri Area        カンザスシティ、ミズーリ州エリア   \n",
       "4        Raleigh-Durham, North Carolina Area  ローリー・ダーラム、ノースカロライナ州エリア   \n",
       "5                     Kitchener, Canada Area            キッチナー、カナダエリア   \n",
       "6                     São Paulo Area, Brazil           ブラジル、サンパウロエリア   \n",
       "7  Region VII - Central Visayas, Philippines       地域VII-中央ビサヤ、フィリピン   \n",
       "\n",
       "   Total views  \n",
       "0            4  \n",
       "1            2  \n",
       "2           62  \n",
       "3            2  \n",
       "4            2  \n",
       "5            5  \n",
       "6            4  \n",
       "7            1  "
      ]
     },
     "execution_count": 118,
     "metadata": {},
     "output_type": "execute_result"
    }
   ],
   "source": [
    "df[1]"
   ]
  },
  {
   "cell_type": "code",
   "execution_count": 113,
   "metadata": {},
   "outputs": [],
   "source": [
    "dictionary = pd.read_csv(f\"{DATA_DIR}/../dictionary.csv\")"
   ]
  },
  {
   "cell_type": "code",
   "execution_count": 114,
   "metadata": {},
   "outputs": [
    {
     "data": {
      "text/html": [
       "<div>\n",
       "<style scoped>\n",
       "    .dataframe tbody tr th:only-of-type {\n",
       "        vertical-align: middle;\n",
       "    }\n",
       "\n",
       "    .dataframe tbody tr th {\n",
       "        vertical-align: top;\n",
       "    }\n",
       "\n",
       "    .dataframe thead th {\n",
       "        text-align: right;\n",
       "    }\n",
       "</style>\n",
       "<table border=\"1\" class=\"dataframe\">\n",
       "  <thead>\n",
       "    <tr style=\"text-align: right;\">\n",
       "      <th></th>\n",
       "      <th>English</th>\n",
       "      <th>Japanese</th>\n",
       "    </tr>\n",
       "  </thead>\n",
       "  <tbody>\n",
       "    <tr>\n",
       "      <th>0</th>\n",
       "      <td>Japanese</td>\n",
       "      <td>日本語</td>\n",
       "    </tr>\n",
       "    <tr>\n",
       "      <th>1</th>\n",
       "      <td>Shanghai City, China</td>\n",
       "      <td>中国、上海市</td>\n",
       "    </tr>\n",
       "    <tr>\n",
       "      <th>2</th>\n",
       "      <td>Kitchener, Canada Area</td>\n",
       "      <td>キッチナー、カナダエリア</td>\n",
       "    </tr>\n",
       "  </tbody>\n",
       "</table>\n",
       "</div>"
      ],
      "text/plain": [
       "                  English      Japanese\n",
       "0                Japanese           日本語\n",
       "1    Shanghai City, China        中国、上海市\n",
       "2  Kitchener, Canada Area  キッチナー、カナダエリア"
      ]
     },
     "execution_count": 114,
     "metadata": {},
     "output_type": "execute_result"
    }
   ],
   "source": [
    "dictionary.tail()"
   ]
  },
  {
   "cell_type": "code",
   "execution_count": 110,
   "metadata": {},
   "outputs": [],
   "source": [
    "test = \"Kitchener, Canada Area\""
   ]
  },
  {
   "cell_type": "code",
   "execution_count": 111,
   "metadata": {},
   "outputs": [],
   "source": [
    "def get_japanese_word(dictionary, word):\n",
    "    if word in dictionary['English'].values:\n",
    "        loc = dictionary.loc[dictionary[\"English\"] == word][\"Japanese\"].index[0]\n",
    "        return dictionary.loc[dictionary[\"English\"] == word].iloc[:,1][loc]\n",
    "    else:\n",
    "        translation = translate(word)\n",
    "        with open(f\"{DATA_DIR}/../dictionary.csv\", 'a+', newline ='') as f:    \n",
    "            write = csv.writer(f) \n",
    "            write.writerow([word, translation]) \n",
    "        return translation"
   ]
  },
  {
   "cell_type": "code",
   "execution_count": 112,
   "metadata": {},
   "outputs": [
    {
     "data": {
      "text/plain": [
       "'キッチナー、カナダエリア'"
      ]
     },
     "execution_count": 112,
     "metadata": {},
     "output_type": "execute_result"
    }
   ],
   "source": [
    "get_japanese_word(dictionary, test)"
   ]
  },
  {
   "cell_type": "code",
   "execution_count": 76,
   "metadata": {},
   "outputs": [],
   "source": [
    "import csv"
   ]
  },
  {
   "cell_type": "code",
   "execution_count": 119,
   "metadata": {},
   "outputs": [
    {
     "data": {
      "text/html": [
       "<div>\n",
       "<style scoped>\n",
       "    .dataframe tbody tr th:only-of-type {\n",
       "        vertical-align: middle;\n",
       "    }\n",
       "\n",
       "    .dataframe tbody tr th {\n",
       "        vertical-align: top;\n",
       "    }\n",
       "\n",
       "    .dataframe thead th {\n",
       "        text-align: right;\n",
       "    }\n",
       "</style>\n",
       "<table border=\"1\" class=\"dataframe\">\n",
       "  <thead>\n",
       "    <tr style=\"text-align: right;\">\n",
       "      <th></th>\n",
       "      <th>Location</th>\n",
       "      <th>Location (JP)</th>\n",
       "      <th>Total views</th>\n",
       "    </tr>\n",
       "  </thead>\n",
       "  <tbody>\n",
       "    <tr>\n",
       "      <th>0</th>\n",
       "      <td>Greater New York City Area</td>\n",
       "      <td>グレーター・ニューヨークシティエリア</td>\n",
       "      <td>4</td>\n",
       "    </tr>\n",
       "    <tr>\n",
       "      <th>1</th>\n",
       "      <td>Portland, Oregon Area</td>\n",
       "      <td>ポートランド、オレゴン州エリア</td>\n",
       "      <td>2</td>\n",
       "    </tr>\n",
       "    <tr>\n",
       "      <th>2</th>\n",
       "      <td>Greater Seattle Area</td>\n",
       "      <td>グレーターシアトルエリア</td>\n",
       "      <td>62</td>\n",
       "    </tr>\n",
       "    <tr>\n",
       "      <th>3</th>\n",
       "      <td>Kansas City, Missouri Area</td>\n",
       "      <td>カンザスシティ、ミズーリ州エリア</td>\n",
       "      <td>2</td>\n",
       "    </tr>\n",
       "    <tr>\n",
       "      <th>4</th>\n",
       "      <td>Raleigh-Durham, North Carolina Area</td>\n",
       "      <td>ローリー・ダーラム、ノースカロライナ州エリア</td>\n",
       "      <td>2</td>\n",
       "    </tr>\n",
       "    <tr>\n",
       "      <th>5</th>\n",
       "      <td>Kitchener, Canada Area</td>\n",
       "      <td>キッチナー、カナダエリア</td>\n",
       "      <td>5</td>\n",
       "    </tr>\n",
       "    <tr>\n",
       "      <th>6</th>\n",
       "      <td>São Paulo Area, Brazil</td>\n",
       "      <td>ブラジル、サンパウロエリア</td>\n",
       "      <td>4</td>\n",
       "    </tr>\n",
       "    <tr>\n",
       "      <th>7</th>\n",
       "      <td>Region VII - Central Visayas, Philippines</td>\n",
       "      <td>地域VII-中央ビサヤ、フィリピン</td>\n",
       "      <td>1</td>\n",
       "    </tr>\n",
       "  </tbody>\n",
       "</table>\n",
       "</div>"
      ],
      "text/plain": [
       "                                    Location           Location (JP)  \\\n",
       "0                 Greater New York City Area      グレーター・ニューヨークシティエリア   \n",
       "1                      Portland, Oregon Area         ポートランド、オレゴン州エリア   \n",
       "2                       Greater Seattle Area            グレーターシアトルエリア   \n",
       "3                 Kansas City, Missouri Area        カンザスシティ、ミズーリ州エリア   \n",
       "4        Raleigh-Durham, North Carolina Area  ローリー・ダーラム、ノースカロライナ州エリア   \n",
       "5                     Kitchener, Canada Area            キッチナー、カナダエリア   \n",
       "6                     São Paulo Area, Brazil           ブラジル、サンパウロエリア   \n",
       "7  Region VII - Central Visayas, Philippines       地域VII-中央ビサヤ、フィリピン   \n",
       "\n",
       "   Total views  \n",
       "0            4  \n",
       "1            2  \n",
       "2           62  \n",
       "3            2  \n",
       "4            2  \n",
       "5            5  \n",
       "6            4  \n",
       "7            1  "
      ]
     },
     "execution_count": 119,
     "metadata": {},
     "output_type": "execute_result"
    }
   ],
   "source": [
    "df[1]"
   ]
  },
  {
   "cell_type": "code",
   "execution_count": 120,
   "metadata": {},
   "outputs": [],
   "source": [
    "from tabulate import tabulate"
   ]
  },
  {
   "cell_type": "code",
   "execution_count": 128,
   "metadata": {},
   "outputs": [
    {
     "name": "stdout",
     "output_type": "stream",
     "text": [
      "    Location                                   Location (JP)                                   Total views\n",
      "--  -----------------------------------------  --------------------------------------------  -------------\n",
      " 0  Greater New York City Area                 グレーター・ニューヨークシティエリア                      4\n",
      " 1  Portland, Oregon Area                      ポートランド、オレゴン州エリア                            2\n",
      " 2  Greater Seattle Area                       グレーターシアトルエリア                                 62\n",
      " 3  Kansas City, Missouri Area                 カンザスシティ、ミズーリ州エリア                          2\n",
      " 4  Raleigh-Durham, North Carolina Area        ローリー・ダーラム、ノースカロライナ州エリア              2\n",
      " 5  Kitchener, Canada Area                     キッチナー、カナダエリア                                  5\n",
      " 6  São Paulo Area, Brazil                     ブラジル、サンパウロエリア                                4\n",
      " 7  Region VII - Central Visayas, Philippines  地域VII-中央ビサヤ、フィリピン                            1\n"
     ]
    }
   ],
   "source": [
    "print(tabulate(df[1], headers=\"keys\"))"
   ]
  },
  {
   "cell_type": "code",
   "execution_count": null,
   "metadata": {},
   "outputs": [],
   "source": []
  }
 ],
 "metadata": {
  "kernelspec": {
   "display_name": "Python 3",
   "language": "python",
   "name": "python3"
  },
  "language_info": {
   "codemirror_mode": {
    "name": "ipython",
    "version": 3
   },
   "file_extension": ".py",
   "mimetype": "text/x-python",
   "name": "python",
   "nbconvert_exporter": "python",
   "pygments_lexer": "ipython3",
   "version": "3.8.5"
  }
 },
 "nbformat": 4,
 "nbformat_minor": 4
}
