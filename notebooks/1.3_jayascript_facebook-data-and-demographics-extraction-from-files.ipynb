{
 "cells": [
  {
   "cell_type": "markdown",
   "metadata": {},
   "source": [
    "# Facebook"
   ]
  },
  {
   "cell_type": "code",
   "execution_count": 1,
   "metadata": {},
   "outputs": [],
   "source": [
    "import os\n",
    "import numpy as np\n",
    "import pandas as pd"
   ]
  },
  {
   "cell_type": "code",
   "execution_count": 2,
   "metadata": {},
   "outputs": [
    {
     "data": {
      "text/plain": [
       "'/home/jayascript/Code/jayascript/monthly_reporting/data'"
      ]
     },
     "execution_count": 2,
     "metadata": {},
     "output_type": "execute_result"
    }
   ],
   "source": [
    "ROOT_DIR = os.path.dirname(os.path.abspath(\"../../setup.py\"))\n",
    "DATA_DIR = os.path.join(ROOT_DIR, \"data\")\n",
    "os.path.join(ROOT_DIR, \"data\")"
   ]
  },
  {
   "cell_type": "markdown",
   "metadata": {},
   "source": [
    "## Data Entry: Page Level"
   ]
  },
  {
   "cell_type": "code",
   "execution_count": 4,
   "metadata": {},
   "outputs": [],
   "source": [
    "file = f\"{DATA_DIR}/raw/facebook/nichifu-2020-10_facebook-page-level.csv\"\n",
    "assert os.path.exists(file)"
   ]
  },
  {
   "cell_type": "code",
   "execution_count": 5,
   "metadata": {},
   "outputs": [],
   "source": [
    "df = pd.read_csv(file)"
   ]
  },
  {
   "cell_type": "code",
   "execution_count": 6,
   "metadata": {},
   "outputs": [
    {
     "data": {
      "text/html": [
       "<div>\n",
       "<style scoped>\n",
       "    .dataframe tbody tr th:only-of-type {\n",
       "        vertical-align: middle;\n",
       "    }\n",
       "\n",
       "    .dataframe tbody tr th {\n",
       "        vertical-align: top;\n",
       "    }\n",
       "\n",
       "    .dataframe thead th {\n",
       "        text-align: right;\n",
       "    }\n",
       "</style>\n",
       "<table border=\"1\" class=\"dataframe\">\n",
       "  <thead>\n",
       "    <tr style=\"text-align: right;\">\n",
       "      <th></th>\n",
       "      <th>Date</th>\n",
       "      <th>Lifetime Total Likes</th>\n",
       "      <th>Daily New Likes</th>\n",
       "      <th>Daily Unlikes</th>\n",
       "      <th>Daily Page Engaged Users</th>\n",
       "      <th>Weekly Page Engaged Users</th>\n",
       "      <th>28 Days Page Engaged Users</th>\n",
       "      <th>Daily Total Reach</th>\n",
       "      <th>Weekly Total Reach</th>\n",
       "      <th>28 Days Total Reach</th>\n",
       "      <th>...</th>\n",
       "      <th>Weekly Total web site click count per Page by age and gender - 55-64.U</th>\n",
       "      <th>Weekly Total web site click count per Page by age and gender - 65+.F</th>\n",
       "      <th>Weekly Total web site click count per Page by age and gender - 65+.M</th>\n",
       "      <th>Weekly Total web site click count per Page by age and gender - 65+.U</th>\n",
       "      <th>Weekly Total web site click count per Page by age and gender - &amp;lt;13.F</th>\n",
       "      <th>Weekly Total web site click count per Page by age and gender - &amp;lt;13.M</th>\n",
       "      <th>Weekly Total web site click count per Page by age and gender - &amp;lt;13.U</th>\n",
       "      <th>Weekly Total web site click count per Page by age and gender - UNKNOWN.F</th>\n",
       "      <th>Weekly Total web site click count per Page by age and gender - UNKNOWN.M</th>\n",
       "      <th>Weekly Total web site click count per Page by age and gender - UNKNOWN.U</th>\n",
       "    </tr>\n",
       "  </thead>\n",
       "  <tbody>\n",
       "    <tr>\n",
       "      <th>0</th>\n",
       "      <td>NaN</td>\n",
       "      <td>Lifetime: The total number of people who have ...</td>\n",
       "      <td>Daily: The number of new people who have liked...</td>\n",
       "      <td>Daily: The number of Unlikes of your Page (Uni...</td>\n",
       "      <td>Daily: The number of people who engaged with y...</td>\n",
       "      <td>Weekly: The number of people who engaged with ...</td>\n",
       "      <td>28 Days: The number of people who engaged with...</td>\n",
       "      <td>Daily: The number of people who had any conten...</td>\n",
       "      <td>Weekly: The number of people who had any conte...</td>\n",
       "      <td>28 Days: The number of people who had any cont...</td>\n",
       "      <td>...</td>\n",
       "      <td>NaN</td>\n",
       "      <td>NaN</td>\n",
       "      <td>NaN</td>\n",
       "      <td>NaN</td>\n",
       "      <td>NaN</td>\n",
       "      <td>NaN</td>\n",
       "      <td>NaN</td>\n",
       "      <td>NaN</td>\n",
       "      <td>NaN</td>\n",
       "      <td>NaN</td>\n",
       "    </tr>\n",
       "    <tr>\n",
       "      <th>1</th>\n",
       "      <td>2020-10-01</td>\n",
       "      <td>175</td>\n",
       "      <td>NaN</td>\n",
       "      <td>NaN</td>\n",
       "      <td>4</td>\n",
       "      <td>9</td>\n",
       "      <td>12</td>\n",
       "      <td>4</td>\n",
       "      <td>16</td>\n",
       "      <td>65</td>\n",
       "      <td>...</td>\n",
       "      <td>0.0</td>\n",
       "      <td>0.0</td>\n",
       "      <td>0.0</td>\n",
       "      <td>0.0</td>\n",
       "      <td>0.0</td>\n",
       "      <td>0.0</td>\n",
       "      <td>0.0</td>\n",
       "      <td>0.0</td>\n",
       "      <td>0.0</td>\n",
       "      <td>0.0</td>\n",
       "    </tr>\n",
       "    <tr>\n",
       "      <th>2</th>\n",
       "      <td>2020-10-02</td>\n",
       "      <td>175</td>\n",
       "      <td>NaN</td>\n",
       "      <td>NaN</td>\n",
       "      <td>6</td>\n",
       "      <td>8</td>\n",
       "      <td>12</td>\n",
       "      <td>7</td>\n",
       "      <td>14</td>\n",
       "      <td>61</td>\n",
       "      <td>...</td>\n",
       "      <td>0.0</td>\n",
       "      <td>0.0</td>\n",
       "      <td>0.0</td>\n",
       "      <td>0.0</td>\n",
       "      <td>0.0</td>\n",
       "      <td>0.0</td>\n",
       "      <td>0.0</td>\n",
       "      <td>0.0</td>\n",
       "      <td>0.0</td>\n",
       "      <td>0.0</td>\n",
       "    </tr>\n",
       "    <tr>\n",
       "      <th>3</th>\n",
       "      <td>2020-10-03</td>\n",
       "      <td>175</td>\n",
       "      <td>NaN</td>\n",
       "      <td>NaN</td>\n",
       "      <td>NaN</td>\n",
       "      <td>8</td>\n",
       "      <td>12</td>\n",
       "      <td>1</td>\n",
       "      <td>14</td>\n",
       "      <td>58</td>\n",
       "      <td>...</td>\n",
       "      <td>0.0</td>\n",
       "      <td>0.0</td>\n",
       "      <td>0.0</td>\n",
       "      <td>0.0</td>\n",
       "      <td>0.0</td>\n",
       "      <td>0.0</td>\n",
       "      <td>0.0</td>\n",
       "      <td>0.0</td>\n",
       "      <td>0.0</td>\n",
       "      <td>0.0</td>\n",
       "    </tr>\n",
       "    <tr>\n",
       "      <th>4</th>\n",
       "      <td>2020-10-04</td>\n",
       "      <td>175</td>\n",
       "      <td>NaN</td>\n",
       "      <td>NaN</td>\n",
       "      <td>1</td>\n",
       "      <td>8</td>\n",
       "      <td>12</td>\n",
       "      <td>2</td>\n",
       "      <td>12</td>\n",
       "      <td>57</td>\n",
       "      <td>...</td>\n",
       "      <td>0.0</td>\n",
       "      <td>0.0</td>\n",
       "      <td>0.0</td>\n",
       "      <td>0.0</td>\n",
       "      <td>0.0</td>\n",
       "      <td>0.0</td>\n",
       "      <td>0.0</td>\n",
       "      <td>0.0</td>\n",
       "      <td>0.0</td>\n",
       "      <td>0.0</td>\n",
       "    </tr>\n",
       "  </tbody>\n",
       "</table>\n",
       "<p>5 rows × 877 columns</p>\n",
       "</div>"
      ],
      "text/plain": [
       "         Date                               Lifetime Total Likes  \\\n",
       "0         NaN  Lifetime: The total number of people who have ...   \n",
       "1  2020-10-01                                                175   \n",
       "2  2020-10-02                                                175   \n",
       "3  2020-10-03                                                175   \n",
       "4  2020-10-04                                                175   \n",
       "\n",
       "                                     Daily New Likes  \\\n",
       "0  Daily: The number of new people who have liked...   \n",
       "1                                                NaN   \n",
       "2                                                NaN   \n",
       "3                                                NaN   \n",
       "4                                                NaN   \n",
       "\n",
       "                                       Daily Unlikes  \\\n",
       "0  Daily: The number of Unlikes of your Page (Uni...   \n",
       "1                                                NaN   \n",
       "2                                                NaN   \n",
       "3                                                NaN   \n",
       "4                                                NaN   \n",
       "\n",
       "                            Daily Page Engaged Users  \\\n",
       "0  Daily: The number of people who engaged with y...   \n",
       "1                                                  4   \n",
       "2                                                  6   \n",
       "3                                                NaN   \n",
       "4                                                  1   \n",
       "\n",
       "                           Weekly Page Engaged Users  \\\n",
       "0  Weekly: The number of people who engaged with ...   \n",
       "1                                                  9   \n",
       "2                                                  8   \n",
       "3                                                  8   \n",
       "4                                                  8   \n",
       "\n",
       "                          28 Days Page Engaged Users  \\\n",
       "0  28 Days: The number of people who engaged with...   \n",
       "1                                                 12   \n",
       "2                                                 12   \n",
       "3                                                 12   \n",
       "4                                                 12   \n",
       "\n",
       "                                   Daily Total Reach  \\\n",
       "0  Daily: The number of people who had any conten...   \n",
       "1                                                  4   \n",
       "2                                                  7   \n",
       "3                                                  1   \n",
       "4                                                  2   \n",
       "\n",
       "                                  Weekly Total Reach  \\\n",
       "0  Weekly: The number of people who had any conte...   \n",
       "1                                                 16   \n",
       "2                                                 14   \n",
       "3                                                 14   \n",
       "4                                                 12   \n",
       "\n",
       "                                 28 Days Total Reach  ...  \\\n",
       "0  28 Days: The number of people who had any cont...  ...   \n",
       "1                                                 65  ...   \n",
       "2                                                 61  ...   \n",
       "3                                                 58  ...   \n",
       "4                                                 57  ...   \n",
       "\n",
       "  Weekly Total web site click count per Page by age and gender - 55-64.U  \\\n",
       "0                                                NaN                       \n",
       "1                                                0.0                       \n",
       "2                                                0.0                       \n",
       "3                                                0.0                       \n",
       "4                                                0.0                       \n",
       "\n",
       "  Weekly Total web site click count per Page by age and gender - 65+.F  \\\n",
       "0                                                NaN                     \n",
       "1                                                0.0                     \n",
       "2                                                0.0                     \n",
       "3                                                0.0                     \n",
       "4                                                0.0                     \n",
       "\n",
       "  Weekly Total web site click count per Page by age and gender - 65+.M  \\\n",
       "0                                                NaN                     \n",
       "1                                                0.0                     \n",
       "2                                                0.0                     \n",
       "3                                                0.0                     \n",
       "4                                                0.0                     \n",
       "\n",
       "  Weekly Total web site click count per Page by age and gender - 65+.U  \\\n",
       "0                                                NaN                     \n",
       "1                                                0.0                     \n",
       "2                                                0.0                     \n",
       "3                                                0.0                     \n",
       "4                                                0.0                     \n",
       "\n",
       "  Weekly Total web site click count per Page by age and gender - &lt;13.F  \\\n",
       "0                                                NaN                        \n",
       "1                                                0.0                        \n",
       "2                                                0.0                        \n",
       "3                                                0.0                        \n",
       "4                                                0.0                        \n",
       "\n",
       "  Weekly Total web site click count per Page by age and gender - &lt;13.M  \\\n",
       "0                                                NaN                        \n",
       "1                                                0.0                        \n",
       "2                                                0.0                        \n",
       "3                                                0.0                        \n",
       "4                                                0.0                        \n",
       "\n",
       "  Weekly Total web site click count per Page by age and gender - &lt;13.U  \\\n",
       "0                                                NaN                        \n",
       "1                                                0.0                        \n",
       "2                                                0.0                        \n",
       "3                                                0.0                        \n",
       "4                                                0.0                        \n",
       "\n",
       "  Weekly Total web site click count per Page by age and gender - UNKNOWN.F  \\\n",
       "0                                                NaN                         \n",
       "1                                                0.0                         \n",
       "2                                                0.0                         \n",
       "3                                                0.0                         \n",
       "4                                                0.0                         \n",
       "\n",
       "  Weekly Total web site click count per Page by age and gender - UNKNOWN.M  \\\n",
       "0                                                NaN                         \n",
       "1                                                0.0                         \n",
       "2                                                0.0                         \n",
       "3                                                0.0                         \n",
       "4                                                0.0                         \n",
       "\n",
       "  Weekly Total web site click count per Page by age and gender - UNKNOWN.U  \n",
       "0                                                NaN                        \n",
       "1                                                0.0                        \n",
       "2                                                0.0                        \n",
       "3                                                0.0                        \n",
       "4                                                0.0                        \n",
       "\n",
       "[5 rows x 877 columns]"
      ]
     },
     "execution_count": 6,
     "metadata": {},
     "output_type": "execute_result"
    }
   ],
   "source": [
    "df.head()"
   ]
  },
  {
   "cell_type": "code",
   "execution_count": 7,
   "metadata": {},
   "outputs": [],
   "source": [
    "df.drop(0, 0, inplace=True)"
   ]
  },
  {
   "cell_type": "code",
   "execution_count": 8,
   "metadata": {},
   "outputs": [],
   "source": [
    "df = df.fillna(0.0)"
   ]
  },
  {
   "cell_type": "markdown",
   "metadata": {},
   "source": [
    "### New followers"
   ]
  },
  {
   "cell_type": "code",
   "execution_count": 9,
   "metadata": {},
   "outputs": [
    {
     "data": {
      "text/plain": [
       "1.0"
      ]
     },
     "execution_count": 9,
     "metadata": {},
     "output_type": "execute_result"
    }
   ],
   "source": [
    "np.sum(pd.to_numeric(df[\"Daily New Likes\"])) + np.sum(pd.to_numeric(df[\"Daily Unlikes\"]))"
   ]
  },
  {
   "cell_type": "markdown",
   "metadata": {},
   "source": [
    "### Clicks"
   ]
  },
  {
   "cell_type": "code",
   "execution_count": 10,
   "metadata": {},
   "outputs": [
    {
     "name": "stdout",
     "output_type": "stream",
     "text": [
      "['Daily Page Consumptions By Type - button clicks', 'Daily Page Consumptions By Type - link clicks', 'Daily Page Consumptions By Type - other clicks', 'Daily Page Consumptions By Type - photo view', 'Daily Page Consumptions By Type - video play']\n"
     ]
    }
   ],
   "source": [
    "click_cols = [col for col in df.columns if 'Daily Page Consumptions By Type' in col]\n",
    "print(click_cols)"
   ]
  },
  {
   "cell_type": "code",
   "execution_count": 11,
   "metadata": {},
   "outputs": [
    {
     "data": {
      "text/plain": [
       "9.0"
      ]
     },
     "execution_count": 11,
     "metadata": {},
     "output_type": "execute_result"
    }
   ],
   "source": [
    "total_clicks = 0\n",
    "\n",
    "for col in click_cols:\n",
    "    total_clicks += np.sum(pd.to_numeric(df[col]))\n",
    "    \n",
    "total_clicks"
   ]
  },
  {
   "cell_type": "markdown",
   "metadata": {},
   "source": [
    "### Comments"
   ]
  },
  {
   "cell_type": "code",
   "execution_count": 12,
   "metadata": {},
   "outputs": [
    {
     "data": {
      "text/plain": [
       "0.0"
      ]
     },
     "execution_count": 12,
     "metadata": {},
     "output_type": "execute_result"
    }
   ],
   "source": [
    "np.sum(pd.to_numeric(df[\"Daily Positive Feedback From Users - comment\"]))"
   ]
  },
  {
   "cell_type": "markdown",
   "metadata": {},
   "source": [
    "## Data Entry: Post Level"
   ]
  },
  {
   "cell_type": "code",
   "execution_count": 13,
   "metadata": {},
   "outputs": [],
   "source": [
    "file = f\"{DATA_DIR}/raw/facebook/nichifu-2020-10_facebook-insights-post-level.csv\"\n",
    "assert os.path.exists(file)"
   ]
  },
  {
   "cell_type": "code",
   "execution_count": 14,
   "metadata": {},
   "outputs": [],
   "source": [
    "df_post = pd.read_csv(file)"
   ]
  },
  {
   "cell_type": "code",
   "execution_count": 15,
   "metadata": {},
   "outputs": [
    {
     "data": {
      "text/html": [
       "<div>\n",
       "<style scoped>\n",
       "    .dataframe tbody tr th:only-of-type {\n",
       "        vertical-align: middle;\n",
       "    }\n",
       "\n",
       "    .dataframe tbody tr th {\n",
       "        vertical-align: top;\n",
       "    }\n",
       "\n",
       "    .dataframe thead th {\n",
       "        text-align: right;\n",
       "    }\n",
       "</style>\n",
       "<table border=\"1\" class=\"dataframe\">\n",
       "  <thead>\n",
       "    <tr style=\"text-align: right;\">\n",
       "      <th></th>\n",
       "      <th>Post ID</th>\n",
       "      <th>Permalink</th>\n",
       "      <th>Post Message</th>\n",
       "      <th>Type</th>\n",
       "      <th>Countries</th>\n",
       "      <th>Languages</th>\n",
       "      <th>Posted</th>\n",
       "      <th>Audience Targeting</th>\n",
       "      <th>Lifetime Post Total Reach</th>\n",
       "      <th>Lifetime Post organic reach</th>\n",
       "      <th>...</th>\n",
       "      <th>Lifetime Average time video viewed</th>\n",
       "      <th>Lifetime Video length</th>\n",
       "      <th>Lifetime Talking About This (Post) by action type - like</th>\n",
       "      <th>Lifetime Post Stories by action type - like</th>\n",
       "      <th>Lifetime Post Audience Targeting Unique Consumptions by Type - link clicks</th>\n",
       "      <th>Lifetime Post Audience Targeting Unique Consumptions by Type - other clicks</th>\n",
       "      <th>Lifetime Matched Audience Targeting Consumptions by Type - link clicks</th>\n",
       "      <th>Lifetime Matched Audience Targeting Consumptions by Type - other clicks</th>\n",
       "      <th>Lifetime Negative Feedback from Users by Type - hide_all_clicks</th>\n",
       "      <th>Lifetime Negative Feedback by Type - hide_all_clicks</th>\n",
       "    </tr>\n",
       "  </thead>\n",
       "  <tbody>\n",
       "    <tr>\n",
       "      <th>0</th>\n",
       "      <td>NaN</td>\n",
       "      <td>NaN</td>\n",
       "      <td>NaN</td>\n",
       "      <td>NaN</td>\n",
       "      <td>NaN</td>\n",
       "      <td>NaN</td>\n",
       "      <td>NaN</td>\n",
       "      <td>NaN</td>\n",
       "      <td>Lifetime: The number of people who had your Pa...</td>\n",
       "      <td>Lifetime: The number of people who had your Pa...</td>\n",
       "      <td>...</td>\n",
       "      <td>Lifetime: Average time video viewed (Total Count)</td>\n",
       "      <td>Lifetime: Length of a video post (Total Count)</td>\n",
       "      <td>Lifetime: The number of unique people who crea...</td>\n",
       "      <td>Lifetime: The number of stories created about ...</td>\n",
       "      <td>Lifetime: The number of people who matched the...</td>\n",
       "      <td>NaN</td>\n",
       "      <td>Lifetime: The number of clicks anywhere in the...</td>\n",
       "      <td>NaN</td>\n",
       "      <td>Lifetime: The number of times people have give...</td>\n",
       "      <td>Lifetime: The number of people who have given ...</td>\n",
       "    </tr>\n",
       "    <tr>\n",
       "      <th>1</th>\n",
       "      <td>597212727095362_1761492040667419</td>\n",
       "      <td>https://www.facebook.com/NichifuGroup/posts/17...</td>\n",
       "      <td>&amp;quot;A possible remedy for traditional constr...</td>\n",
       "      <td>Link</td>\n",
       "      <td>NaN</td>\n",
       "      <td>NaN</td>\n",
       "      <td>10/31/2020 01:00:28 PM</td>\n",
       "      <td></td>\n",
       "      <td>4</td>\n",
       "      <td>4</td>\n",
       "      <td>...</td>\n",
       "      <td>0</td>\n",
       "      <td>0</td>\n",
       "      <td>4</td>\n",
       "      <td>4</td>\n",
       "      <td>NaN</td>\n",
       "      <td>NaN</td>\n",
       "      <td>NaN</td>\n",
       "      <td>NaN</td>\n",
       "      <td>NaN</td>\n",
       "      <td>NaN</td>\n",
       "    </tr>\n",
       "    <tr>\n",
       "      <th>2</th>\n",
       "      <td>597212727095362_1760623600754263</td>\n",
       "      <td>https://www.facebook.com/NichifuGroup/photos/a...</td>\n",
       "      <td>The Nichifu 1.25Y-3.5 Non-Insulated Spade Term...</td>\n",
       "      <td>Photo</td>\n",
       "      <td>NaN</td>\n",
       "      <td>NaN</td>\n",
       "      <td>10/30/2020 03:35:00 PM</td>\n",
       "      <td></td>\n",
       "      <td>8</td>\n",
       "      <td>8</td>\n",
       "      <td>...</td>\n",
       "      <td>0</td>\n",
       "      <td>0</td>\n",
       "      <td>5</td>\n",
       "      <td>5</td>\n",
       "      <td>NaN</td>\n",
       "      <td>NaN</td>\n",
       "      <td>NaN</td>\n",
       "      <td>NaN</td>\n",
       "      <td>NaN</td>\n",
       "      <td>NaN</td>\n",
       "    </tr>\n",
       "    <tr>\n",
       "      <th>3</th>\n",
       "      <td>597212727095362_1759510567532233</td>\n",
       "      <td>https://www.facebook.com/NichifuGroup/posts/17...</td>\n",
       "      <td>The Nichifu Plug-Joint-Connector is especially...</td>\n",
       "      <td>Link</td>\n",
       "      <td>NaN</td>\n",
       "      <td>NaN</td>\n",
       "      <td>10/29/2020 01:00:38 PM</td>\n",
       "      <td></td>\n",
       "      <td>5</td>\n",
       "      <td>5</td>\n",
       "      <td>...</td>\n",
       "      <td>0</td>\n",
       "      <td>0</td>\n",
       "      <td>5</td>\n",
       "      <td>5</td>\n",
       "      <td>1</td>\n",
       "      <td>NaN</td>\n",
       "      <td>2</td>\n",
       "      <td>NaN</td>\n",
       "      <td>NaN</td>\n",
       "      <td>NaN</td>\n",
       "    </tr>\n",
       "    <tr>\n",
       "      <th>4</th>\n",
       "      <td>597212727095362_1755489201267703</td>\n",
       "      <td>https://www.facebook.com/NichifuGroup/posts/17...</td>\n",
       "      <td>&amp;quot;Solar energy is poised for what could be...</td>\n",
       "      <td>Link</td>\n",
       "      <td>NaN</td>\n",
       "      <td>NaN</td>\n",
       "      <td>10/25/2020 02:00:18 PM</td>\n",
       "      <td></td>\n",
       "      <td>10</td>\n",
       "      <td>10</td>\n",
       "      <td>...</td>\n",
       "      <td>0</td>\n",
       "      <td>0</td>\n",
       "      <td>5</td>\n",
       "      <td>5</td>\n",
       "      <td>NaN</td>\n",
       "      <td>NaN</td>\n",
       "      <td>NaN</td>\n",
       "      <td>NaN</td>\n",
       "      <td>NaN</td>\n",
       "      <td>NaN</td>\n",
       "    </tr>\n",
       "  </tbody>\n",
       "</table>\n",
       "<p>5 rows × 42 columns</p>\n",
       "</div>"
      ],
      "text/plain": [
       "                            Post ID  \\\n",
       "0                               NaN   \n",
       "1  597212727095362_1761492040667419   \n",
       "2  597212727095362_1760623600754263   \n",
       "3  597212727095362_1759510567532233   \n",
       "4  597212727095362_1755489201267703   \n",
       "\n",
       "                                           Permalink  \\\n",
       "0                                                NaN   \n",
       "1  https://www.facebook.com/NichifuGroup/posts/17...   \n",
       "2  https://www.facebook.com/NichifuGroup/photos/a...   \n",
       "3  https://www.facebook.com/NichifuGroup/posts/17...   \n",
       "4  https://www.facebook.com/NichifuGroup/posts/17...   \n",
       "\n",
       "                                        Post Message   Type  Countries  \\\n",
       "0                                                NaN    NaN        NaN   \n",
       "1  &quot;A possible remedy for traditional constr...   Link        NaN   \n",
       "2  The Nichifu 1.25Y-3.5 Non-Insulated Spade Term...  Photo        NaN   \n",
       "3  The Nichifu Plug-Joint-Connector is especially...   Link        NaN   \n",
       "4  &quot;Solar energy is poised for what could be...   Link        NaN   \n",
       "\n",
       "   Languages                  Posted Audience Targeting  \\\n",
       "0        NaN                     NaN                NaN   \n",
       "1        NaN  10/31/2020 01:00:28 PM                      \n",
       "2        NaN  10/30/2020 03:35:00 PM                      \n",
       "3        NaN  10/29/2020 01:00:38 PM                      \n",
       "4        NaN  10/25/2020 02:00:18 PM                      \n",
       "\n",
       "                           Lifetime Post Total Reach  \\\n",
       "0  Lifetime: The number of people who had your Pa...   \n",
       "1                                                  4   \n",
       "2                                                  8   \n",
       "3                                                  5   \n",
       "4                                                 10   \n",
       "\n",
       "                         Lifetime Post organic reach  ...  \\\n",
       "0  Lifetime: The number of people who had your Pa...  ...   \n",
       "1                                                  4  ...   \n",
       "2                                                  8  ...   \n",
       "3                                                  5  ...   \n",
       "4                                                 10  ...   \n",
       "\n",
       "                  Lifetime Average time video viewed  \\\n",
       "0  Lifetime: Average time video viewed (Total Count)   \n",
       "1                                                  0   \n",
       "2                                                  0   \n",
       "3                                                  0   \n",
       "4                                                  0   \n",
       "\n",
       "                            Lifetime Video length  \\\n",
       "0  Lifetime: Length of a video post (Total Count)   \n",
       "1                                               0   \n",
       "2                                               0   \n",
       "3                                               0   \n",
       "4                                               0   \n",
       "\n",
       "  Lifetime Talking About This (Post) by action type - like  \\\n",
       "0  Lifetime: The number of unique people who crea...         \n",
       "1                                                  4         \n",
       "2                                                  5         \n",
       "3                                                  5         \n",
       "4                                                  5         \n",
       "\n",
       "         Lifetime Post Stories by action type - like  \\\n",
       "0  Lifetime: The number of stories created about ...   \n",
       "1                                                  4   \n",
       "2                                                  5   \n",
       "3                                                  5   \n",
       "4                                                  5   \n",
       "\n",
       "  Lifetime Post Audience Targeting Unique Consumptions by Type - link clicks  \\\n",
       "0  Lifetime: The number of people who matched the...                           \n",
       "1                                                NaN                           \n",
       "2                                                NaN                           \n",
       "3                                                  1                           \n",
       "4                                                NaN                           \n",
       "\n",
       "  Lifetime Post Audience Targeting Unique Consumptions by Type - other clicks  \\\n",
       "0                                                NaN                            \n",
       "1                                                NaN                            \n",
       "2                                                NaN                            \n",
       "3                                                NaN                            \n",
       "4                                                NaN                            \n",
       "\n",
       "  Lifetime Matched Audience Targeting Consumptions by Type - link clicks  \\\n",
       "0  Lifetime: The number of clicks anywhere in the...                       \n",
       "1                                                NaN                       \n",
       "2                                                NaN                       \n",
       "3                                                  2                       \n",
       "4                                                NaN                       \n",
       "\n",
       "  Lifetime Matched Audience Targeting Consumptions by Type - other clicks  \\\n",
       "0                                                NaN                        \n",
       "1                                                NaN                        \n",
       "2                                                NaN                        \n",
       "3                                                NaN                        \n",
       "4                                                NaN                        \n",
       "\n",
       "  Lifetime Negative Feedback from Users by Type - hide_all_clicks  \\\n",
       "0  Lifetime: The number of times people have give...                \n",
       "1                                                NaN                \n",
       "2                                                NaN                \n",
       "3                                                NaN                \n",
       "4                                                NaN                \n",
       "\n",
       "  Lifetime Negative Feedback by Type - hide_all_clicks  \n",
       "0  Lifetime: The number of people who have given ...    \n",
       "1                                                NaN    \n",
       "2                                                NaN    \n",
       "3                                                NaN    \n",
       "4                                                NaN    \n",
       "\n",
       "[5 rows x 42 columns]"
      ]
     },
     "execution_count": 15,
     "metadata": {},
     "output_type": "execute_result"
    }
   ],
   "source": [
    "df_post.head()"
   ]
  },
  {
   "cell_type": "code",
   "execution_count": 16,
   "metadata": {},
   "outputs": [],
   "source": [
    "df_post.drop(0, 0, inplace=True)"
   ]
  },
  {
   "cell_type": "code",
   "execution_count": 17,
   "metadata": {},
   "outputs": [],
   "source": [
    "df_post = df_post.fillna(0.0)"
   ]
  },
  {
   "cell_type": "markdown",
   "metadata": {},
   "source": [
    "### Posts"
   ]
  },
  {
   "cell_type": "code",
   "execution_count": 18,
   "metadata": {},
   "outputs": [
    {
     "data": {
      "text/plain": [
       "15"
      ]
     },
     "execution_count": 18,
     "metadata": {},
     "output_type": "execute_result"
    }
   ],
   "source": [
    "df_post.shape[0]"
   ]
  },
  {
   "cell_type": "markdown",
   "metadata": {},
   "source": [
    "### Impressions"
   ]
  },
  {
   "cell_type": "code",
   "execution_count": 19,
   "metadata": {},
   "outputs": [
    {
     "data": {
      "text/plain": [
       "236"
      ]
     },
     "execution_count": 19,
     "metadata": {},
     "output_type": "execute_result"
    }
   ],
   "source": [
    "np.sum(pd.to_numeric(df_post[\"Lifetime Post Total Impressions\"]))"
   ]
  },
  {
   "cell_type": "markdown",
   "metadata": {},
   "source": [
    "### Likes"
   ]
  },
  {
   "cell_type": "code",
   "execution_count": 20,
   "metadata": {},
   "outputs": [
    {
     "data": {
      "text/plain": [
       "75"
      ]
     },
     "execution_count": 20,
     "metadata": {},
     "output_type": "execute_result"
    }
   ],
   "source": [
    "np.sum(pd.to_numeric(df_post[\"Lifetime Post Stories by action type - like\"]))"
   ]
  },
  {
   "cell_type": "markdown",
   "metadata": {},
   "source": [
    "## Demographics: Page Data"
   ]
  },
  {
   "cell_type": "markdown",
   "metadata": {},
   "source": [
    "### Age\n",
    "\n",
    "Find “Lifetime Likes by Gender and Age” columns & locate values in last cell"
   ]
  },
  {
   "cell_type": "code",
   "execution_count": 21,
   "metadata": {},
   "outputs": [
    {
     "name": "stdout",
     "output_type": "stream",
     "text": [
      "['Lifetime Likes by Gender and Age - F.18-24', 'Lifetime Likes by Gender and Age - F.25-34', 'Lifetime Likes by Gender and Age - F.35-44', 'Lifetime Likes by Gender and Age - F.45-54', 'Lifetime Likes by Gender and Age - F.55-64', 'Lifetime Likes by Gender and Age - F.65+', 'Lifetime Likes by Gender and Age - M.18-24', 'Lifetime Likes by Gender and Age - M.25-34', 'Lifetime Likes by Gender and Age - M.35-44', 'Lifetime Likes by Gender and Age - M.45-54', 'Lifetime Likes by Gender and Age - M.55-64', 'Lifetime Likes by Gender and Age - M.65+']\n"
     ]
    }
   ],
   "source": [
    "age_cols = [col for col in df.columns if 'Lifetime Likes by Gender and Age' in col]\n",
    "print(age_cols)"
   ]
  },
  {
   "cell_type": "code",
   "execution_count": 22,
   "metadata": {},
   "outputs": [
    {
     "data": {
      "text/plain": [
       "Lifetime Likes by Gender and Age - F.18-24     1\n",
       "Lifetime Likes by Gender and Age - F.25-34     6\n",
       "Lifetime Likes by Gender and Age - F.35-44     9\n",
       "Lifetime Likes by Gender and Age - F.45-54     9\n",
       "Lifetime Likes by Gender and Age - F.55-64     8\n",
       "Lifetime Likes by Gender and Age - F.65+       3\n",
       "Lifetime Likes by Gender and Age - M.18-24     5\n",
       "Lifetime Likes by Gender and Age - M.25-34    22\n",
       "Lifetime Likes by Gender and Age - M.35-44    33\n",
       "Lifetime Likes by Gender and Age - M.45-54    42\n",
       "Lifetime Likes by Gender and Age - M.55-64    25\n",
       "Lifetime Likes by Gender and Age - M.65+      10\n",
       "Name: 31, dtype: object"
      ]
     },
     "execution_count": 22,
     "metadata": {},
     "output_type": "execute_result"
    }
   ],
   "source": [
    "df[age_cols].iloc[-1,:]"
   ]
  },
  {
   "cell_type": "markdown",
   "metadata": {},
   "source": [
    "### Country\n",
    "\n",
    "* Find “Lifetime Likes by Country” columns & copy to new sheet\n",
    "* Remove all but header and last rows and transpose dataframe\n",
    "* Sort by descending, then alphabetical order\n",
    "* Enter up to 5 countries"
   ]
  },
  {
   "cell_type": "code",
   "execution_count": 23,
   "metadata": {},
   "outputs": [
    {
     "name": "stdout",
     "output_type": "stream",
     "text": [
      "['Lifetime Likes by Country - AU', 'Lifetime Likes by Country - CA', 'Lifetime Likes by Country - CN', 'Lifetime Likes by Country - ES', 'Lifetime Likes by Country - GB', 'Lifetime Likes by Country - GH', 'Lifetime Likes by Country - ID', 'Lifetime Likes by Country - IN', 'Lifetime Likes by Country - JP', 'Lifetime Likes by Country - KE', 'Lifetime Likes by Country - MX', 'Lifetime Likes by Country - NG', 'Lifetime Likes by Country - OM', 'Lifetime Likes by Country - PH', 'Lifetime Likes by Country - PR', 'Lifetime Likes by Country - TH', 'Lifetime Likes by Country - TW', 'Lifetime Likes by Country - UG', 'Lifetime Likes by Country - US', 'Lifetime Likes by Country - VN', 'Lifetime Likes by Country - ZA']\n"
     ]
    }
   ],
   "source": [
    "country_cols = [col for col in df.columns if 'Lifetime Likes by Country' in col]\n",
    "print(country_cols)"
   ]
  },
  {
   "cell_type": "code",
   "execution_count": 24,
   "metadata": {},
   "outputs": [],
   "source": [
    "index = df[country_cols].iloc[-1,:].name"
   ]
  },
  {
   "cell_type": "code",
   "execution_count": 25,
   "metadata": {},
   "outputs": [],
   "source": [
    "results = pd.to_numeric(df[country_cols].iloc[-1,:]).sort_values(ascending=False)"
   ]
  },
  {
   "cell_type": "code",
   "execution_count": 26,
   "metadata": {},
   "outputs": [],
   "source": [
    "results = pd.DataFrame(results).reset_index().iloc[:5]"
   ]
  },
  {
   "cell_type": "code",
   "execution_count": 27,
   "metadata": {},
   "outputs": [],
   "source": [
    "countries = list(results[\"index\"])\n",
    "shortened = [country[-2:] for country in countries]\n",
    "results[\"index\"] = shortened"
   ]
  },
  {
   "cell_type": "code",
   "execution_count": 28,
   "metadata": {},
   "outputs": [
    {
     "data": {
      "text/html": [
       "<div>\n",
       "<style scoped>\n",
       "    .dataframe tbody tr th:only-of-type {\n",
       "        vertical-align: middle;\n",
       "    }\n",
       "\n",
       "    .dataframe tbody tr th {\n",
       "        vertical-align: top;\n",
       "    }\n",
       "\n",
       "    .dataframe thead th {\n",
       "        text-align: right;\n",
       "    }\n",
       "</style>\n",
       "<table border=\"1\" class=\"dataframe\">\n",
       "  <thead>\n",
       "    <tr style=\"text-align: right;\">\n",
       "      <th></th>\n",
       "      <th>index</th>\n",
       "      <th>31</th>\n",
       "    </tr>\n",
       "  </thead>\n",
       "  <tbody>\n",
       "    <tr>\n",
       "      <th>0</th>\n",
       "      <td>US</td>\n",
       "      <td>125.0</td>\n",
       "    </tr>\n",
       "    <tr>\n",
       "      <th>1</th>\n",
       "      <td>MX</td>\n",
       "      <td>21.0</td>\n",
       "    </tr>\n",
       "    <tr>\n",
       "      <th>2</th>\n",
       "      <td>CA</td>\n",
       "      <td>4.0</td>\n",
       "    </tr>\n",
       "    <tr>\n",
       "      <th>3</th>\n",
       "      <td>PH</td>\n",
       "      <td>3.0</td>\n",
       "    </tr>\n",
       "    <tr>\n",
       "      <th>4</th>\n",
       "      <td>TW</td>\n",
       "      <td>2.0</td>\n",
       "    </tr>\n",
       "  </tbody>\n",
       "</table>\n",
       "</div>"
      ],
      "text/plain": [
       "  index     31\n",
       "0    US  125.0\n",
       "1    MX   21.0\n",
       "2    CA    4.0\n",
       "3    PH    3.0\n",
       "4    TW    2.0"
      ]
     },
     "execution_count": 28,
     "metadata": {},
     "output_type": "execute_result"
    }
   ],
   "source": [
    "results"
   ]
  },
  {
   "cell_type": "code",
   "execution_count": null,
   "metadata": {},
   "outputs": [],
   "source": []
  }
 ],
 "metadata": {
  "kernelspec": {
   "display_name": "Python 3",
   "language": "python",
   "name": "python3"
  },
  "language_info": {
   "codemirror_mode": {
    "name": "ipython",
    "version": 3
   },
   "file_extension": ".py",
   "mimetype": "text/x-python",
   "name": "python",
   "nbconvert_exporter": "python",
   "pygments_lexer": "ipython3",
   "version": "3.7.8"
  }
 },
 "nbformat": 4,
 "nbformat_minor": 4
}
